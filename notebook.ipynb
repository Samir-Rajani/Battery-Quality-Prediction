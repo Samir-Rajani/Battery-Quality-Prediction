{
 "cells": [
  {
   "cell_type": "markdown",
   "id": "02983d43",
   "metadata": {},
   "source": [
    "## Sample Dataset"
   ]
  },
  {
   "cell_type": "code",
   "execution_count": 2,
   "id": "154f137d",
   "metadata": {},
   "outputs": [
    {
     "data": {
      "text/html": [
       "<div>\n",
       "<style scoped>\n",
       "    .dataframe tbody tr th:only-of-type {\n",
       "        vertical-align: middle;\n",
       "    }\n",
       "\n",
       "    .dataframe tbody tr th {\n",
       "        vertical-align: top;\n",
       "    }\n",
       "\n",
       "    .dataframe thead th {\n",
       "        text-align: right;\n",
       "    }\n",
       "</style>\n",
       "<table border=\"1\" class=\"dataframe\">\n",
       "  <thead>\n",
       "    <tr style=\"text-align: right;\">\n",
       "      <th></th>\n",
       "      <th>batch_id</th>\n",
       "      <th>coat_thickness</th>\n",
       "      <th>dry_temp</th>\n",
       "      <th>cal_press</th>\n",
       "      <th>slurry_visc</th>\n",
       "      <th>dcir_mOhm</th>\n",
       "      <th>capacity_Ah</th>\n",
       "      <th>volt_drift_V</th>\n",
       "      <th>leak_uA</th>\n",
       "      <th>label_pass</th>\n",
       "    </tr>\n",
       "  </thead>\n",
       "  <tbody>\n",
       "    <tr>\n",
       "      <th>0</th>\n",
       "      <td>2</td>\n",
       "      <td>75.289018</td>\n",
       "      <td>109.330023</td>\n",
       "      <td>199.514705</td>\n",
       "      <td>1004.697721</td>\n",
       "      <td>33.679468</td>\n",
       "      <td>5.053454</td>\n",
       "      <td>0.007500</td>\n",
       "      <td>8.205065</td>\n",
       "      <td>1</td>\n",
       "    </tr>\n",
       "    <tr>\n",
       "      <th>1</th>\n",
       "      <td>10</td>\n",
       "      <td>83.047906</td>\n",
       "      <td>122.499463</td>\n",
       "      <td>210.754528</td>\n",
       "      <td>934.070411</td>\n",
       "      <td>31.054683</td>\n",
       "      <td>5.046669</td>\n",
       "      <td>0.029819</td>\n",
       "      <td>7.161909</td>\n",
       "      <td>1</td>\n",
       "    </tr>\n",
       "    <tr>\n",
       "      <th>2</th>\n",
       "      <td>8</td>\n",
       "      <td>78.977413</td>\n",
       "      <td>104.938115</td>\n",
       "      <td>200.404815</td>\n",
       "      <td>914.567368</td>\n",
       "      <td>32.442401</td>\n",
       "      <td>4.919478</td>\n",
       "      <td>-0.007291</td>\n",
       "      <td>6.215346</td>\n",
       "      <td>1</td>\n",
       "    </tr>\n",
       "    <tr>\n",
       "      <th>3</th>\n",
       "      <td>6</td>\n",
       "      <td>75.052801</td>\n",
       "      <td>113.652607</td>\n",
       "      <td>209.285899</td>\n",
       "      <td>950.575466</td>\n",
       "      <td>37.257456</td>\n",
       "      <td>5.213707</td>\n",
       "      <td>-0.006751</td>\n",
       "      <td>9.180954</td>\n",
       "      <td>1</td>\n",
       "    </tr>\n",
       "    <tr>\n",
       "      <th>4</th>\n",
       "      <td>6</td>\n",
       "      <td>79.137587</td>\n",
       "      <td>114.834181</td>\n",
       "      <td>196.978549</td>\n",
       "      <td>947.359314</td>\n",
       "      <td>33.893907</td>\n",
       "      <td>4.949073</td>\n",
       "      <td>-0.003119</td>\n",
       "      <td>7.183038</td>\n",
       "      <td>1</td>\n",
       "    </tr>\n",
       "  </tbody>\n",
       "</table>\n",
       "</div>"
      ],
      "text/plain": [
       "   batch_id  coat_thickness    dry_temp   cal_press  slurry_visc  dcir_mOhm  \\\n",
       "0         2       75.289018  109.330023  199.514705  1004.697721  33.679468   \n",
       "1        10       83.047906  122.499463  210.754528   934.070411  31.054683   \n",
       "2         8       78.977413  104.938115  200.404815   914.567368  32.442401   \n",
       "3         6       75.052801  113.652607  209.285899   950.575466  37.257456   \n",
       "4         6       79.137587  114.834181  196.978549   947.359314  33.893907   \n",
       "\n",
       "   capacity_Ah  volt_drift_V   leak_uA  label_pass  \n",
       "0     5.053454      0.007500  8.205065           1  \n",
       "1     5.046669      0.029819  7.161909           1  \n",
       "2     4.919478     -0.007291  6.215346           1  \n",
       "3     5.213707     -0.006751  9.180954           1  \n",
       "4     4.949073     -0.003119  7.183038           1  "
      ]
     },
     "execution_count": 2,
     "metadata": {},
     "output_type": "execute_result"
    }
   ],
   "source": [
    "import numpy as np, pandas as pd\n",
    "rng = np.random.default_rng(42)\n",
    "\n",
    "N = 12000     # cells\n",
    "BATCHES = 12  # production batches\n",
    "batch_id = rng.integers(1, BATCHES+1, size=N)\n",
    "\n",
    "# Process parameters (think coating thickness, drying temp, calender pressure, etc.)\n",
    "coat_thickness = rng.normal(80, 3, N) + (batch_id-6)*0.4\n",
    "dry_temp = rng.normal(110, 5, N) + (batch_id-6)*0.8\n",
    "cal_press = rng.normal(200, 10, N)\n",
    "slurry_visc = rng.normal(950, 60, N)\n",
    "\n",
    "# EOL electrical: DCIR, capacity, voltage drift, leakage current\n",
    "dcir = rng.normal(35, 3, N) + 0.05*(coat_thickness-80) + 0.03*(dry_temp-110)\n",
    "capacity = rng.normal(5.0, 0.15, N) - 0.004*(dcir-35) - 0.001*(slurry_visc-950)\n",
    "v_drift = rng.normal(0.0, 0.015, N) + 0.0005*(dry_temp-110)\n",
    "leak_uA = np.abs(rng.normal(8, 2, N) + 0.1*(dcir-35))\n",
    "\n",
    "# Label: pass/fail based on multiple thresholds (nonlinear + noise)\n",
    "z = (capacity > 4.85).astype(int) * (dcir < 39).astype(int) * (leak_uA < 12).astype(int)\n",
    "y = np.where(rng.random(N) < 0.03, 1-z, z)  # inject label noise\n",
    "\n",
    "df = pd.DataFrame({\n",
    "    \"batch_id\": batch_id,\n",
    "    \"coat_thickness\": coat_thickness,\n",
    "    \"dry_temp\": dry_temp,\n",
    "    \"cal_press\": cal_press,\n",
    "    \"slurry_visc\": slurry_visc,\n",
    "    \"dcir_mOhm\": dcir,\n",
    "    \"capacity_Ah\": capacity,\n",
    "    \"volt_drift_V\": v_drift,\n",
    "    \"leak_uA\": leak_uA,\n",
    "    \"label_pass\": y\n",
    "})\n",
    "df.head()\n"
   ]
  },
  {
   "cell_type": "markdown",
   "id": "2ab84a6f",
   "metadata": {},
   "source": [
    "## Train/validation/test split by batch (prevents leakage)"
   ]
  },
  {
   "cell_type": "code",
   "execution_count": 3,
   "id": "6b596998",
   "metadata": {},
   "outputs": [],
   "source": [
    "from sklearn.model_selection import GroupShuffleSplit\n",
    "\n",
    "X = df.drop(columns=[\"label_pass\"])\n",
    "y = df[\"label_pass\"].values\n",
    "groups = df[\"batch_id\"].values\n",
    "\n",
    "gss = GroupShuffleSplit(n_splits=1, train_size=0.7, random_state=7)\n",
    "train_idx, temp_idx = next(gss.split(X, y, groups))\n",
    "X_train, y_train, g_train = X.iloc[train_idx], y[train_idx], groups[train_idx]\n",
    "\n",
    "gss2 = GroupShuffleSplit(n_splits=1, train_size=0.5, random_state=7)\n",
    "val_idx, test_idx = next(gss2.split(X.iloc[temp_idx], y[temp_idx], groups[temp_idx]))\n",
    "val_idx, test_idx = temp_idx[val_idx], temp_idx[test_idx]\n",
    "\n",
    "X_val, y_val = X.iloc[val_idx], y[val_idx]\n",
    "X_test, y_test = X.iloc[test_idx], y[test_idx]\n"
   ]
  },
  {
   "cell_type": "markdown",
   "id": "7f90ff12",
   "metadata": {},
   "source": [
    "## Baseline modeling pipeline (scikit-learn Pipeline + PCA)"
   ]
  },
  {
   "cell_type": "code",
   "execution_count": 4,
   "id": "19edd2e5",
   "metadata": {},
   "outputs": [
    {
     "name": "stdout",
     "output_type": "stream",
     "text": [
      "Val ROC-AUC: 0.9486027053622872\n",
      "Val PR-AUC : 0.9659629969009783\n"
     ]
    }
   ],
   "source": [
    "from sklearn.compose import ColumnTransformer\n",
    "from sklearn.preprocessing import StandardScaler\n",
    "from sklearn.decomposition import PCA\n",
    "from sklearn.pipeline import Pipeline\n",
    "from sklearn.metrics import roc_auc_score, average_precision_score\n",
    "from sklearn.ensemble import RandomForestClassifier\n",
    "\n",
    "numeric = X.columns.tolist()\n",
    "\n",
    "pre = ColumnTransformer([\n",
    "    (\"scale\", StandardScaler(), numeric),\n",
    "], remainder=\"drop\")\n",
    "\n",
    "model = Pipeline([\n",
    "    (\"pre\", pre),\n",
    "    (\"pca\", PCA(n_components=0.95, svd_solver=\"full\")),  # keep 95% variance\n",
    "    (\"rf\", RandomForestClassifier(\n",
    "        n_estimators=300, max_depth=None, class_weight=\"balanced_subsample\", random_state=7\n",
    "    ))\n",
    "])\n",
    "\n",
    "model.fit(X_train, y_train)\n",
    "proba_val = model.predict_proba(X_val)[:,1]\n",
    "print(\"Val ROC-AUC:\", roc_auc_score(y_val, proba_val))\n",
    "print(\"Val PR-AUC :\", average_precision_score(y_val, proba_val))\n"
   ]
  },
  {
   "cell_type": "markdown",
   "id": "04ac2650",
   "metadata": {},
   "source": [
    "## GridSearchCV Tuning"
   ]
  },
  {
   "cell_type": "code",
   "execution_count": 5,
   "id": "23bb2ad5",
   "metadata": {},
   "outputs": [
    {
     "name": "stdout",
     "output_type": "stream",
     "text": [
      "{'rf__max_depth': 20, 'rf__min_samples_leaf': 1, 'rf__n_estimators': 200}\n"
     ]
    }
   ],
   "source": [
    "from sklearn.model_selection import GridSearchCV\n",
    "\n",
    "param_grid = {\n",
    "    \"rf__n_estimators\": [200, 400],\n",
    "    \"rf__max_depth\": [None, 10, 20],\n",
    "    \"rf__min_samples_leaf\": [1, 3, 5]\n",
    "}\n",
    "gs = GridSearchCV(model, param_grid, scoring=\"roc_auc\", cv=3, n_jobs=-1)\n",
    "gs.fit(X_train, y_train)\n",
    "best = gs.best_estimator_\n",
    "print(gs.best_params_)\n"
   ]
  }
 ],
 "metadata": {
  "kernelspec": {
   "display_name": "Python 3",
   "language": "python",
   "name": "python3"
  },
  "language_info": {
   "codemirror_mode": {
    "name": "ipython",
    "version": 3
   },
   "file_extension": ".py",
   "mimetype": "text/x-python",
   "name": "python",
   "nbconvert_exporter": "python",
   "pygments_lexer": "ipython3",
   "version": "3.14.0"
  }
 },
 "nbformat": 4,
 "nbformat_minor": 5
}
